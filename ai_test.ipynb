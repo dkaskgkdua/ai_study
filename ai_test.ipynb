{
  "nbformat": 4,
  "nbformat_minor": 0,
  "metadata": {
    "colab": {
      "provenance": [],
      "toc_visible": true,
      "authorship_tag": "ABX9TyNnYkShU8TrZjhhiOIHOy0y",
      "include_colab_link": true
    },
    "kernelspec": {
      "name": "python3",
      "display_name": "Python 3"
    },
    "language_info": {
      "name": "python"
    }
  },
  "cells": [
    {
      "cell_type": "markdown",
      "metadata": {
        "id": "view-in-github",
        "colab_type": "text"
      },
      "source": [
        "<a href=\"https://colab.research.google.com/github/dkaskgkdua/ai_study/blob/main/ai_test.ipynb\" target=\"_parent\"><img src=\"https://colab.research.google.com/assets/colab-badge.svg\" alt=\"Open In Colab\"/></a>"
      ]
    },
    {
      "cell_type": "markdown",
      "source": [
        "# K-최근접 이웃 알고리즘"
      ],
      "metadata": {
        "id": "PDWbh-0xrCh1"
      }
    },
    {
      "cell_type": "code",
      "execution_count": null,
      "metadata": {
        "colab": {
          "base_uri": "https://localhost:8080/"
        },
        "id": "6WOw9JWcRc-Q",
        "outputId": "cb873ec8-a696-4165-806f-45bfb72eae37"
      },
      "outputs": [
        {
          "output_type": "execute_result",
          "data": {
            "text/plain": [
              "array([1])"
            ]
          },
          "metadata": {},
          "execution_count": 6
        }
      ],
      "source": [
        "import matplotlib.pyplot as plt\n",
        "from sklearn.neighbors import KNeighborsClassifier\n",
        "\n",
        "bream_length = [25.4, 26.3, 26.5, 29.0, 29.0, 29.7, 29.7, 30.0, 30.0, 30.7, 31.0, 31.0,\n",
        "                31.5, 32.0, 32.0, 32.0, 33.0, 33.0, 33.5, 33.5, 34.0, 34.0, 34.5, 35.0,\n",
        "                35.0, 35.0, 35.0, 36.0, 36.0, 37.0, 38.5, 38.5, 39.5, 41.0, 41.0]\n",
        "bream_weight = [242.0, 290.0, 340.0, 363.0, 430.0, 450.0, 500.0, 390.0, 450.0, 500.0, 475.0, 500.0,\n",
        "                500.0, 340.0, 600.0, 600.0, 700.0, 700.0, 610.0, 650.0, 575.0, 685.0, 620.0, 680.0,\n",
        "                700.0, 725.0, 720.0, 714.0, 850.0, 1000.0, 920.0, 955.0, 925.0, 975.0, 950.0]\n",
        "smelt_length = [9.8, 10.5, 10.6, 11.0, 11.2, 11.3, 11.8, 11.8, 12.0, 12.2, 12.4, 13.0, 14.3, 15.0]\n",
        "smelt_weight = [6.7, 7.5, 7.0, 9.7, 9.8, 8.7, 10.0, 9.9, 9.8, 12.2, 13.4, 12.2, 19.7, 19.9]\n",
        "\n",
        "length = bream_length + smelt_length\n",
        "weight = bream_weight + smelt_weight\n",
        "\n",
        "fish_data = [[l,w] for l, w in zip(length, weight)]\n",
        "fish_target = [1] * 35 + [0] * 14\n",
        "\n",
        "kn = KNeighborsClassifier()\n",
        "kn.fit(fish_data, fish_target)\n",
        "# 정확도\n",
        "# kn.score(fish_data, fish_target)\n",
        "\n",
        "kn.predict([[30, 600]])\n",
        "\n",
        "# plt.scatter(bream_length, bream_weight)\n",
        "# plt.scatter(smelt_length, smelt_weight)\n",
        "# plt.xlabel('length')\n",
        "# plt.ylabel('weight')\n",
        "# plt.show()"
      ]
    },
    {
      "cell_type": "markdown",
      "source": [
        "# 넘파이 활용해서 산점도 그리기, 평가\n",
        "\n",
        "### 파이썬 리스트를 넘파이 배열로 바꾸기\n",
        "- np.array()\n",
        "\n",
        "### 넘파이 배열 크기, 특성 추가\n",
        "- input_arr.shape\n",
        "  => (49, 2)\n"
      ],
      "metadata": {
        "id": "U7NX7w8S4M-Y"
      }
    },
    {
      "cell_type": "code",
      "source": [
        "import matplotlib.pyplot as plt\n",
        "from sklearn.neighbors import KNeighborsClassifier\n",
        "import numpy as np\n",
        "\n",
        "bream_length = [25.4, 26.3, 26.5, 29.0, 29.0, 29.7, 29.7, 30.0, 30.0, 30.7, 31.0, 31.0,\n",
        "                31.5, 32.0, 32.0, 32.0, 33.0, 33.0, 33.5, 33.5, 34.0, 34.0, 34.5, 35.0,\n",
        "                35.0, 35.0, 35.0, 36.0, 36.0, 37.0, 38.5, 38.5, 39.5, 41.0, 41.0]\n",
        "bream_weight = [242.0, 290.0, 340.0, 363.0, 430.0, 450.0, 500.0, 390.0, 450.0, 500.0, 475.0, 500.0,\n",
        "                500.0, 340.0, 600.0, 600.0, 700.0, 700.0, 610.0, 650.0, 575.0, 685.0, 620.0, 680.0,\n",
        "                700.0, 725.0, 720.0, 714.0, 850.0, 1000.0, 920.0, 955.0, 925.0, 975.0, 950.0]\n",
        "smelt_length = [9.8, 10.5, 10.6, 11.0, 11.2, 11.3, 11.8, 11.8, 12.0, 12.2, 12.4, 13.0, 14.3, 15.0]\n",
        "smelt_weight = [6.7, 7.5, 7.0, 9.7, 9.8, 8.7, 10.0, 9.9, 9.8, 12.2, 13.4, 12.2, 19.7, 19.9]\n",
        "\n",
        "length = bream_length + smelt_length\n",
        "weight = bream_weight + smelt_weight\n",
        "\n",
        "fish_data = [[l,w] for l, w in zip(length, weight)]\n",
        "fish_target = [1] * 35 + [0] * 14\n",
        "\n",
        "input_arr = np.array(fish_data)\n",
        "target_arr = np.array(fish_target)\n",
        "\n",
        "np.random.seed(42)\n",
        "index = np.arange(49)\n",
        "np.random.shuffle(index)\n",
        "\n",
        "train_input = input_arr[index[:35]]\n",
        "train_target = target_arr[index[:35]]\n",
        "\n",
        "test_input = input_arr[index[35:]]\n",
        "test_target = target_arr[index[35:]]\n",
        "\n",
        "# 산점도 그리기\n",
        "# plt.scatter(train_input[:,0], train_input[:,1])\n",
        "# plt.scatter(test_input[:,0], test_input[:, 1])\n",
        "# plt.xlabel('length')\n",
        "# plt.ylabel('weight')\n",
        "# plt.show()\n",
        "\n",
        "\n",
        "\n",
        "kn = KNeighborsClassifier()\n",
        "kn.fit(train_input, train_target)\n",
        "\n",
        "# 값 1.0 (정확도 100)\n",
        "# kn.score(test_input, test_target)\n",
        "\n",
        "kn.predict(test_input)\n"
      ],
      "metadata": {
        "colab": {
          "base_uri": "https://localhost:8080/"
        },
        "id": "8-yjLBb74R2y",
        "outputId": "f560f972-4e01-4bf8-b4b6-b3312aa3cd12"
      },
      "execution_count": null,
      "outputs": [
        {
          "output_type": "execute_result",
          "data": {
            "text/plain": [
              "array([0, 0, 1, 0, 1, 1, 1, 0, 1, 1, 0, 1, 1, 0])"
            ]
          },
          "metadata": {},
          "execution_count": 4
        }
      ]
    },
    {
      "cell_type": "markdown",
      "source": [
        "#데이터 전처리\n",
        "올바른 결과 도출을 위해 데이터 사용 전 전처리 과정을 거침.\n",
        "\n",
        "## 데이터 전처리가 필요한 경우\n",
        "아래와 같은 케이스는 (25, 150) 데이터가 1을 기대했는데 0인 경우다.\n",
        "산점도로 보면 삼각형과 마름모 4개의 거리가 꽤 되는데 distance가 92, 130이다. 130보단 훨 멀어야 할 것 같은데 왜 그럴까?\n",
        "- 답은 x축과 y축의 범위가 달라서 그렇다.\n",
        "- 이를 두 특성의 스케일이 다르다고 한다.\n",
        "- k-최근접 이웃도 거리 기반이라 특성값을 일정한 기준으로 맞추어야 하는데 이를 데이터 전처리라고 부른다.\n",
        "\n"
      ],
      "metadata": {
        "id": "wc14aK4QNmNI"
      }
    },
    {
      "cell_type": "code",
      "source": [
        "import numpy as np\n",
        "from sklearn.model_selection import train_test_split\n",
        "import matplotlib.pyplot as plt\n",
        "from sklearn.neighbors import KNeighborsClassifier\n",
        "\n",
        "fish_length = [25.4, 26.3, 26.5, 29.0, 29.0, 29.7, 29.7, 30.0, 30.0, 30.7, 31.0, 31.0,\n",
        "                31.5, 32.0, 32.0, 32.0, 33.0, 33.0, 33.5, 33.5, 34.0, 34.0, 34.5, 35.0,\n",
        "                35.0, 35.0, 35.0, 36.0, 36.0, 37.0, 38.5, 38.5, 39.5, 41.0, 41.0, 9.8,\n",
        "                10.5, 10.6, 11.0, 11.2, 11.3, 11.8, 11.8, 12.0, 12.2, 12.4, 13.0, 14.3, 15.0]\n",
        "fish_weight = [242.0, 290.0, 340.0, 363.0, 430.0, 450.0, 500.0, 390.0, 450.0, 500.0, 475.0, 500.0,\n",
        "                500.0, 340.0, 600.0, 600.0, 700.0, 700.0, 610.0, 650.0, 575.0, 685.0, 620.0, 680.0,\n",
        "                700.0, 725.0, 720.0, 714.0, 850.0, 1000.0, 920.0, 955.0, 925.0, 975.0, 950.0, 6.7,\n",
        "                7.5, 7.0, 9.7, 9.8, 8.7, 10.0, 9.9, 9.8, 12.2, 13.4, 12.2, 19.7, 19.9]\n",
        "\n",
        "fish_data = np.column_stack((fish_length, fish_weight))\n",
        "\n",
        "print(fish_data[:5])\n",
        "\n",
        "fish_target = np.concatenate((np.ones(35), np.zeros(14)))\n",
        "\n",
        "print(fish_target)\n",
        "#  random_state는 랜덤 시드 지정\n",
        "# stratify는 샘플링 편향을 막기 위해 해당 데이터를 클래스 비율에 맞게 데이터를 나눠줌\n",
        "train_input, test_input, train_target, test_target = train_test_split(fish_data, fish_target, stratify=fish_target, random_state = 42)\n",
        "\n",
        "print(test_target)\n",
        "\n",
        "kn = KNeighborsClassifier()\n",
        "kn.fit(train_input, train_target)\n",
        "kn.score(test_input, test_target)\n",
        "distances, indexes = kn.kneighbors([[25, 150]])\n",
        "\n",
        "print(\"distances : \" , distances)\n",
        "print(\"가장 가까운 샘플 : \" , train_input[indexes])\n",
        "print(\"가장 가까운 샘플 종류 \" , train_target[indexes])\n",
        "# 빙어가 4개나 된다.\n",
        "\n",
        "# 산점도 그리기\n",
        "plt.scatter(train_input[:,0], train_input[:,1])\n",
        "plt.scatter(25, 150, marker='^')\n",
        "plt.scatter(train_input[indexes, 0], train_input[indexes, 1], marker='D')\n",
        "plt.xlabel('length')\n",
        "plt.ylabel('weight')\n",
        "plt.show()\n",
        "\n"
      ],
      "metadata": {
        "colab": {
          "base_uri": "https://localhost:8080/",
          "height": 743
        },
        "id": "fBlRkE-NNlOw",
        "outputId": "5d021341-f191-403b-f4ba-6314d6f92b73"
      },
      "execution_count": null,
      "outputs": [
        {
          "output_type": "stream",
          "name": "stdout",
          "text": [
            "[[ 25.4 242. ]\n",
            " [ 26.3 290. ]\n",
            " [ 26.5 340. ]\n",
            " [ 29.  363. ]\n",
            " [ 29.  430. ]]\n",
            "[1. 1. 1. 1. 1. 1. 1. 1. 1. 1. 1. 1. 1. 1. 1. 1. 1. 1. 1. 1. 1. 1. 1. 1.\n",
            " 1. 1. 1. 1. 1. 1. 1. 1. 1. 1. 1. 0. 0. 0. 0. 0. 0. 0. 0. 0. 0. 0. 0. 0.\n",
            " 0.]\n",
            "[0. 0. 1. 0. 1. 0. 1. 1. 1. 1. 1. 1. 1.]\n",
            "distances :  [[ 92.00086956 130.48375378 130.73859415 138.32150953 138.39320793]]\n",
            "가장 가까운 샘플 :  [[[ 25.4 242. ]\n",
            "  [ 15.   19.9]\n",
            "  [ 14.3  19.7]\n",
            "  [ 13.   12.2]\n",
            "  [ 12.2  12.2]]]\n",
            "가장 가까운 샘플 종류  [[1. 0. 0. 0. 0.]]\n"
          ]
        },
        {
          "output_type": "display_data",
          "data": {
            "text/plain": [
              "<Figure size 640x480 with 1 Axes>"
            ],
            "image/png": "[encoded data removed]"
          },
          "metadata": {}
        }
      ]
    },
    {
      "cell_type": "markdown",
      "source": [
        "## 표준점수(데이터 전처리 방법 중 하나)\n",
        "표준점수는 각 특성값이 평균에서 표준편차의 몇 배만큼 떨어져 있는지를 나타낸다."
      ],
      "metadata": {
        "id": "t_5cpl5JWfrE"
      }
    },
    {
      "cell_type": "code",
      "source": [
        "import numpy as np\n",
        "from sklearn.model_selection import train_test_split\n",
        "import matplotlib.pyplot as plt\n",
        "from sklearn.neighbors import KNeighborsClassifier\n",
        "\n",
        "fish_length = [25.4, 26.3, 26.5, 29.0, 29.0, 29.7, 29.7, 30.0, 30.0, 30.7, 31.0, 31.0,\n",
        "                31.5, 32.0, 32.0, 32.0, 33.0, 33.0, 33.5, 33.5, 34.0, 34.0, 34.5, 35.0,\n",
        "                35.0, 35.0, 35.0, 36.0, 36.0, 37.0, 38.5, 38.5, 39.5, 41.0, 41.0, 9.8,\n",
        "                10.5, 10.6, 11.0, 11.2, 11.3, 11.8, 11.8, 12.0, 12.2, 12.4, 13.0, 14.3, 15.0]\n",
        "fish_weight = [242.0, 290.0, 340.0, 363.0, 430.0, 450.0, 500.0, 390.0, 450.0, 500.0, 475.0, 500.0,\n",
        "                500.0, 340.0, 600.0, 600.0, 700.0, 700.0, 610.0, 650.0, 575.0, 685.0, 620.0, 680.0,\n",
        "                700.0, 725.0, 720.0, 714.0, 850.0, 1000.0, 920.0, 955.0, 925.0, 975.0, 950.0, 6.7,\n",
        "                7.5, 7.0, 9.7, 9.8, 8.7, 10.0, 9.9, 9.8, 12.2, 13.4, 12.2, 19.7, 19.9]\n",
        "\n",
        "fish_data = np.column_stack((fish_length, fish_weight))\n",
        "\n",
        "# print(fish_data[:5])\n",
        "\n",
        "fish_target = np.concatenate((np.ones(35), np.zeros(14)))\n",
        "\n",
        "# print(fish_target)\n",
        "#  random_state는 랜덤 시드 지정\n",
        "# stratify는 샘플링 편향을 막기 위해 해당 데이터를 클래스 비율에 맞게 데이터를 나눠줌\n",
        "train_input, test_input, train_target, test_target = train_test_split(fish_data, fish_target, stratify=fish_target, random_state = 42)\n",
        "\n",
        "# 평균\n",
        "mean = np.mean(train_input, axis=0)\n",
        "# 표준편차\n",
        "std = np.std(train_input, axis=0)\n",
        "\n",
        "print(mean,std)\n",
        "\n",
        "train_scaled = (train_input - mean) / std\n",
        "\n",
        "kn.fit(train_scaled, train_target)\n",
        "\n",
        "print(train_scaled)\n",
        "\n",
        "new = ([25, 150] - mean) / std\n",
        "\n",
        "# 가장 가까운 이웃 5 확인용\n",
        "distances, indexes = kn.kneighbors([new])\n",
        "\n",
        "plt.scatter(train_scaled[:,0], train_scaled[:,1])\n",
        "plt.scatter(new[0], new[1], marker='^')\n",
        "plt.scatter(train_scaled[indexes, 0], train_scaled[indexes, 1], marker='D')\n",
        "plt.xlabel('length')\n",
        "plt.ylabel('weight')\n",
        "plt.show()\n",
        "\n",
        "# 훈련용\n",
        "test_scaled = (test_input - mean) / std\n",
        "kn.score(test_scaled, test_target)\n",
        "\n",
        "# 임의 테스트\n",
        "print(kn.predict([new]))"
      ],
      "metadata": {
        "colab": {
          "base_uri": "https://localhost:8080/",
          "height": 1000
        },
        "id": "aH6FyGfMjvMP",
        "outputId": "b0a14702-e129-4f4f-dd43-32a2b29ec248"
      },
      "execution_count": null,
      "outputs": [
        {
          "output_type": "stream",
          "name": "stdout",
          "text": [
            "[ 27.29722222 454.09722222] [  9.98244253 323.29893931]\n",
            "[[ 0.24070039  0.14198246]\n",
            " [-1.51237757 -1.36683783]\n",
            " [ 0.5712808   0.76060496]\n",
            " [-1.60253587 -1.37766373]\n",
            " [ 1.22242404  1.45655528]\n",
            " [ 0.17057727 -0.07453542]\n",
            " [ 0.87180845  0.80390854]\n",
            " [ 0.87180845  1.22457184]\n",
            " [ 0.37092904  0.06465464]\n",
            " [ 0.77163257  0.82246721]\n",
            " [ 0.97198434  1.68853872]\n",
            " [-1.61255346 -1.3742613 ]\n",
            " [ 0.72154463  0.51315596]\n",
            " [-1.53241275 -1.3742613 ]\n",
            " [ 0.17057727 -0.28177396]\n",
            " [ 0.5712808   0.76060496]\n",
            " [ 0.34087627  0.14198246]\n",
            " [ 1.12224816  1.54934866]\n",
            " [ 0.62136874  0.60594934]\n",
            " [-1.30200822 -1.34363949]\n",
            " [ 0.42101698  0.14198246]\n",
            " [-0.19005591 -0.65604058]\n",
            " [-1.75279969 -1.38384995]\n",
            " [ 0.47110492  0.45129371]\n",
            " [-1.68267658 -1.38137546]\n",
            " [ 0.62136874  0.48222484]\n",
            " [-1.67265899 -1.38292202]\n",
            " [ 0.77163257  0.76060496]\n",
            " [ 0.47110492  0.45129371]\n",
            " [ 0.77163257  0.83793278]\n",
            " [-1.43223687 -1.36683783]\n",
            " [ 0.27075315 -0.01267317]\n",
            " [ 0.47110492 -0.35291555]\n",
            " [-1.2318851  -1.34302087]\n",
            " [ 0.27075315 -0.19825992]\n",
            " [ 1.37268787  1.61121091]]\n"
          ]
        },
        {
          "output_type": "display_data",
          "data": {
            "text/plain": [
              "<Figure size 640x480 with 1 Axes>"
            ],
            "image/png": "[encoded data removed]"
          },
          "metadata": {}
        },
        {
          "output_type": "stream",
          "name": "stdout",
          "text": [
            "[1.]\n"
          ]
        }
      ]
    },
    {
      "cell_type": "markdown",
      "source": [
        "# k-최근접 이웃 회귀\n",
        "지도학습은 크게 분류와 회귀로 나뉜다.\n",
        "분류는 말그대로 클래스 중 하나로 분류하는 문제이고\n",
        "회귀는 클래스 중 하나로 분류하는 것이 아니라 임의의 어떤 숫자를 예측하는 문제이다.\n",
        "\n",
        "* 회귀에서 점수는 정확도인데 완벽하게 정확한 숫자를 맞힌다는 것을 불가능하다. 이 점수를 결정계수라고 하는데 간단히 R^2이라고 한다.\n",
        "\n",
        "R^2 = 1 - ((타깃 - 예측)^2의 합) / (타깃 - 평균)^2의 합)\n",
        "\n",
        "예측이 타깃에 가까워지면 1, 평균 정도를 예측하는 정도면 0에 가까워짐"
      ],
      "metadata": {
        "id": "xDK6JLB__0rS"
      }
    },
    {
      "cell_type": "code",
      "source": [
        "import matplotlib.pyplot as plt\n",
        "from sklearn.model_selection import train_test_split\n",
        "from sklearn.metrics import mean_absolute_error\n",
        "from sklearn.neighbors import KNeighborsRegressor\n",
        "import numpy as np\n",
        "\n",
        "perch_length = np.array([8.4, 13.7, 15.0, 16.2, 17.4, 18.0, 18.7, 19.0, 19.6, 20.0, 21.0,\n",
        "       21.0, 21.0, 21.3, 22.0, 22.0, 22.0, 22.0, 22.0, 22.5, 22.5, 22.7,\n",
        "       23.0, 23.5, 24.0, 24.0, 24.6, 25.0, 25.6, 26.5, 27.3, 27.5, 27.5,\n",
        "       27.5, 28.0, 28.7, 30.0, 32.8, 34.5, 35.0, 36.5, 36.0, 37.0, 37.0,\n",
        "       39.0, 39.0, 39.0, 40.0, 40.0, 40.0, 40.0, 42.0, 43.0, 43.0, 43.5,\n",
        "       44.0])\n",
        "perch_weight = np.array([5.9, 32.0, 40.0, 51.5, 70.0, 100.0, 78.0, 80.0, 85.0, 85.0, 110.0,\n",
        "       115.0, 125.0, 130.0, 120.0, 120.0, 130.0, 135.0, 110.0, 130.0,\n",
        "       150.0, 145.0, 150.0, 170.0, 225.0, 145.0, 188.0, 180.0, 197.0,\n",
        "       218.0, 300.0, 260.0, 265.0, 250.0, 250.0, 300.0, 320.0, 514.0,\n",
        "       556.0, 840.0, 685.0, 700.0, 700.0, 690.0, 900.0, 650.0, 820.0,\n",
        "       850.0, 900.0, 1015.0, 820.0, 1100.0, 1000.0, 1100.0, 1000.0,\n",
        "       1000.0])\n",
        "\n",
        "plt.scatter(perch_length, perch_weight)\n",
        "plt.xlabel('length')\n",
        "plt.ylabel('weight')\n",
        "plt.show()\n",
        "\n",
        "\n",
        "train_input, test_input, train_target, test_target = train_test_split(perch_length, perch_weight, random_state = 42)\n",
        "\n",
        "# -1인 건 해당 배열의 크기만큼 자동으로 채워라는 뜻\n",
        "train_input = train_input.reshape(-1, 1)\n",
        "test_input = test_input.reshape(-1, 1)\n",
        "print(train_input, test_input)\n",
        "\n",
        "# 회귀 모델 훈련\n",
        "knr = KNeighborsRegressor()\n",
        "\n",
        "knr.fit(train_input, train_target)\n",
        "\n",
        "# 점수 확인\n",
        "print(knr.score(test_input, test_target))\n",
        "\n",
        "# 테스트 세트에 대한 예측을 만듬\n",
        "test_prediction = knr.predict(test_input)\n",
        "# 테스트 세트에 대한 평균 절댓값 오차를 계산\n",
        "mae = mean_absolute_error(test_target, test_prediction)\n",
        "# 평균적으로 19g 정도 타깃값과 다름\n",
        "print(mae)"
      ],
      "metadata": {
        "id": "t8JbJRVA_3bG",
        "outputId": "74752a55-a05e-4a24-f10f-944f863ffa6c",
        "colab": {
          "base_uri": "https://localhost:8080/",
          "height": 1000
        }
      },
      "execution_count": null,
      "outputs": [
        {
          "output_type": "display_data",
          "data": {
            "text/plain": [
              "<Figure size 640x480 with 1 Axes>"
            ],
            "image/png": "[encoded data removed]"
          },
          "metadata": {}
        },
        {
          "output_type": "stream",
          "name": "stdout",
          "text": [
            "[[19.6]\n",
            " [22. ]\n",
            " [18.7]\n",
            " [17.4]\n",
            " [36. ]\n",
            " [25. ]\n",
            " [40. ]\n",
            " [39. ]\n",
            " [43. ]\n",
            " [22. ]\n",
            " [20. ]\n",
            " [22. ]\n",
            " [24. ]\n",
            " [27.5]\n",
            " [43. ]\n",
            " [40. ]\n",
            " [24. ]\n",
            " [21. ]\n",
            " [27.5]\n",
            " [40. ]\n",
            " [32.8]\n",
            " [26.5]\n",
            " [36.5]\n",
            " [13.7]\n",
            " [22.7]\n",
            " [15. ]\n",
            " [37. ]\n",
            " [35. ]\n",
            " [28.7]\n",
            " [23.5]\n",
            " [39. ]\n",
            " [21. ]\n",
            " [23. ]\n",
            " [22. ]\n",
            " [44. ]\n",
            " [22.5]\n",
            " [19. ]\n",
            " [37. ]\n",
            " [22. ]\n",
            " [25.6]\n",
            " [42. ]\n",
            " [34.5]] [[ 8.4]\n",
            " [18. ]\n",
            " [27.5]\n",
            " [21.3]\n",
            " [22.5]\n",
            " [40. ]\n",
            " [30. ]\n",
            " [24.6]\n",
            " [39. ]\n",
            " [21. ]\n",
            " [43.5]\n",
            " [16.2]\n",
            " [28. ]\n",
            " [27.3]]\n",
            "0.992809406101064\n",
            "19.157142857142862\n"
          ]
        }
      ]
    },
    {
      "cell_type": "markdown",
      "source": [
        "## 과대적합 vs 과소적합\n",
        "\n",
        "### 과대적합(Overfitting)\n",
        "훈련 세트에서 점수가 좋았는데 테스트 세트에서 점수가 굉장이 나쁘다면 모델이 훈련 세트에 과대적합 되었다고 말한다. 즉 훈련세트에만 잘 맞는 모델이라 테스트 세트와 나중에 실전에 투입하여 새로운 샘플에 대한 예측을 만들 때 잘 동작하지 않음.\n",
        "\n",
        "### 과소적합(Underfitting)\n",
        "훈련 세트보다 테스트 세트의 점수가 높거나 두 점수가 모두 너무 낮은 경우는 과소적합이라고 한다. 즉 모델이 너무 단순하여 훈련 세트에 적절히 훈련이 안된 경우다.\n",
        "\n",
        "k-최근접 이웃 클래스는 이웃의 개수를 줄여서 모델을 더 복잡하게 만들어 과소적합을 해결하면 된다."
      ],
      "metadata": {
        "id": "csH53kTpfkFw"
      }
    },
    {
      "cell_type": "code",
      "source": [
        "import matplotlib.pyplot as plt\n",
        "from sklearn.model_selection import train_test_split\n",
        "from sklearn.metrics import mean_absolute_error\n",
        "from sklearn.neighbors import KNeighborsRegressor\n",
        "import numpy as np\n",
        "\n",
        "perch_length = np.array([8.4, 13.7, 15.0, 16.2, 17.4, 18.0, 18.7, 19.0, 19.6, 20.0, 21.0,\n",
        "       21.0, 21.0, 21.3, 22.0, 22.0, 22.0, 22.0, 22.0, 22.5, 22.5, 22.7,\n",
        "       23.0, 23.5, 24.0, 24.0, 24.6, 25.0, 25.6, 26.5, 27.3, 27.5, 27.5,\n",
        "       27.5, 28.0, 28.7, 30.0, 32.8, 34.5, 35.0, 36.5, 36.0, 37.0, 37.0,\n",
        "       39.0, 39.0, 39.0, 40.0, 40.0, 40.0, 40.0, 42.0, 43.0, 43.0, 43.5,\n",
        "       44.0])\n",
        "perch_weight = np.array([5.9, 32.0, 40.0, 51.5, 70.0, 100.0, 78.0, 80.0, 85.0, 85.0, 110.0,\n",
        "       115.0, 125.0, 130.0, 120.0, 120.0, 130.0, 135.0, 110.0, 130.0,\n",
        "       150.0, 145.0, 150.0, 170.0, 225.0, 145.0, 188.0, 180.0, 197.0,\n",
        "       218.0, 300.0, 260.0, 265.0, 250.0, 250.0, 300.0, 320.0, 514.0,\n",
        "       556.0, 840.0, 685.0, 700.0, 700.0, 690.0, 900.0, 650.0, 820.0,\n",
        "       850.0, 900.0, 1015.0, 820.0, 1100.0, 1000.0, 1100.0, 1000.0,\n",
        "       1000.0])\n",
        "\n",
        "plt.scatter(perch_length, perch_weight)\n",
        "plt.xlabel('length')\n",
        "plt.ylabel('weight')\n",
        "plt.show()\n",
        "\n",
        "\n",
        "train_input, test_input, train_target, test_target = train_test_split(perch_length, perch_weight, random_state = 42)\n",
        "\n",
        "# -1인 건 해당 배열의 크기만큼 자동으로 채워라는 뜻\n",
        "train_input = train_input.reshape(-1, 1)\n",
        "test_input = test_input.reshape(-1, 1)\n",
        "print(train_input, test_input)\n",
        "\n",
        "# 회귀 모델 훈련\n",
        "knr = KNeighborsRegressor()\n",
        "# 이웃의 개수를 3으로 설정\n",
        "knr.n_neighbors = 3\n",
        "knr.fit(train_input, train_target)\n",
        "\n",
        "# 점수 확인\n",
        "print(knr.score(train_input, train_target))\n",
        "print(knr.score(test_input, test_target))\n",
        "\n",
        "# 테스트 세트에 대한 예측을 만듬\n",
        "test_prediction = knr.predict(test_input)\n",
        "# 테스트 세트에 대한 평균 절댓값 오차를 계산\n",
        "mae = mean_absolute_error(test_target, test_prediction)\n",
        "# 평균적으로 19g 정도 타깃값과 다름\n",
        "print(mae)"
      ],
      "metadata": {
        "id": "PWCaeOjZPtM0",
        "outputId": "63192273-2404-468a-d4cc-3d610e35b1cd",
        "colab": {
          "base_uri": "https://localhost:8080/",
          "height": 1000
        }
      },
      "execution_count": null,
      "outputs": [
        {
          "output_type": "display_data",
          "data": {
            "text/plain": [
              "<Figure size 640x480 with 1 Axes>"
            ],
            "image/png": "[encoded data removed]"
          },
          "metadata": {}
        },
        {
          "output_type": "stream",
          "name": "stdout",
          "text": [
            "[[19.6]\n",
            " [22. ]\n",
            " [18.7]\n",
            " [17.4]\n",
            " [36. ]\n",
            " [25. ]\n",
            " [40. ]\n",
            " [39. ]\n",
            " [43. ]\n",
            " [22. ]\n",
            " [20. ]\n",
            " [22. ]\n",
            " [24. ]\n",
            " [27.5]\n",
            " [43. ]\n",
            " [40. ]\n",
            " [24. ]\n",
            " [21. ]\n",
            " [27.5]\n",
            " [40. ]\n",
            " [32.8]\n",
            " [26.5]\n",
            " [36.5]\n",
            " [13.7]\n",
            " [22.7]\n",
            " [15. ]\n",
            " [37. ]\n",
            " [35. ]\n",
            " [28.7]\n",
            " [23.5]\n",
            " [39. ]\n",
            " [21. ]\n",
            " [23. ]\n",
            " [22. ]\n",
            " [44. ]\n",
            " [22.5]\n",
            " [19. ]\n",
            " [37. ]\n",
            " [22. ]\n",
            " [25.6]\n",
            " [42. ]\n",
            " [34.5]] [[ 8.4]\n",
            " [18. ]\n",
            " [27.5]\n",
            " [21.3]\n",
            " [22.5]\n",
            " [40. ]\n",
            " [30. ]\n",
            " [24.6]\n",
            " [39. ]\n",
            " [21. ]\n",
            " [43.5]\n",
            " [16.2]\n",
            " [28. ]\n",
            " [27.3]]\n",
            "0.9804899950518966\n",
            "0.9746459963987609\n",
            "35.42380952380951\n"
          ]
        }
      ]
    },
    {
      "cell_type": "markdown",
      "source": [
        "# 선형회귀\n",
        "비교적 간단하고 성능이 뛰어남. 특성이 하나인 경우 어떤 직선을 학습하는 알고리즘.\n"
      ],
      "metadata": {
        "id": "8iELhaWjX81z"
      }
    },
    {
      "cell_type": "markdown",
      "source": [
        "\n",
        "## 다항회귀\n",
        "선형회귀는 직선이므로 실질적으로 현실에선 곡선에 가까운 경우가 많다.\n",
        "이런 경우 2차 방정식으로 접근을 해야하는데 다항 회귀라는 개념을 적용해야 한다.\n",
        "학습 데이터 값을 제곱하는 것이다."
      ],
      "metadata": {
        "id": "OjXVP7ZWzI27"
      }
    },
    {
      "cell_type": "code",
      "source": [
        "import matplotlib.pyplot as plt\n",
        "from sklearn.model_selection import train_test_split\n",
        "from sklearn.metrics import mean_absolute_error\n",
        "from sklearn.linear_model import LinearRegression\n",
        "import numpy as np\n",
        "\n",
        "perch_length = np.array([8.4, 13.7, 15.0, 16.2, 17.4, 18.0, 18.7, 19.0, 19.6, 20.0, 21.0,\n",
        "       21.0, 21.0, 21.3, 22.0, 22.0, 22.0, 22.0, 22.0, 22.5, 22.5, 22.7,\n",
        "       23.0, 23.5, 24.0, 24.0, 24.6, 25.0, 25.6, 26.5, 27.3, 27.5, 27.5,\n",
        "       27.5, 28.0, 28.7, 30.0, 32.8, 34.5, 35.0, 36.5, 36.0, 37.0, 37.0,\n",
        "       39.0, 39.0, 39.0, 40.0, 40.0, 40.0, 40.0, 42.0, 43.0, 43.0, 43.5,\n",
        "       44.0])\n",
        "perch_weight = np.array([5.9, 32.0, 40.0, 51.5, 70.0, 100.0, 78.0, 80.0, 85.0, 85.0, 110.0,\n",
        "       115.0, 125.0, 130.0, 120.0, 120.0, 130.0, 135.0, 110.0, 130.0,\n",
        "       150.0, 145.0, 150.0, 170.0, 225.0, 145.0, 188.0, 180.0, 197.0,\n",
        "       218.0, 300.0, 260.0, 265.0, 250.0, 250.0, 300.0, 320.0, 514.0,\n",
        "       556.0, 840.0, 685.0, 700.0, 700.0, 690.0, 900.0, 650.0, 820.0,\n",
        "       850.0, 900.0, 1015.0, 820.0, 1100.0, 1000.0, 1100.0, 1000.0,\n",
        "       1000.0])\n",
        "\n",
        "plt.scatter(perch_length, perch_weight)\n",
        "plt.xlabel('length')\n",
        "plt.ylabel('weight')\n",
        "plt.show()\n",
        "\n",
        "\n",
        "train_input, test_input, train_target, test_target = train_test_split(perch_length, perch_weight, random_state = 42)\n",
        "\n",
        "# 2차방정식을 위한 길이를 제곱한 항으로 만들어줌\n",
        "train_poly = np.column_stack((train_input ** 2, train_input))\n",
        "test_poly = np.column_stack((test_input ** 2, test_input))\n",
        "\n",
        "print(train_poly.shape, test_poly.shape)\n",
        "\n",
        "# 훈련세트는 제곱 항을 추가했지만 타깃값은 그대로!\n",
        "lr = LinearRegression()\n",
        "lr.fit(train_poly, train_target)\n",
        "\n",
        "print(lr.predict([[50**2, 50]]))\n",
        "\n",
        "# 이 모델은 아래와 같이 그래프를 학습했음\n",
        "# 무게 = 1.01 * 길이^2 - 21.6 * 길이 + 116.05\n",
        "# 무게 = 1.01A^2 - 21.6A + 116.05\n",
        "print(lr.coef_, lr.intercept_)\n",
        "\n",
        "# 이러한 방정식을 다항식을 사용한 선형 회귀 = 다항 회귀\n",
        "\n",
        "# 구간별 직선을 그리기 위해 15에서 49까지 정수 배열을 만듬\n",
        "point = np.arange(15, 50)\n",
        "\n",
        "# 훈련 세트의 산점도를 그림\n",
        "plt.scatter(train_input, train_target)\n",
        "\n",
        "# 15에서 49까지 2차방정식 그래프를 그림\n",
        "plt.plot(point, 1.01*point**2 - 21.6*point + 116.05)\n",
        "plt.scatter(50, 1574, marker = '^')\n",
        "plt.xlabel('length')\n",
        "plt.ylabel('weight')\n",
        "plt.show()\n",
        "# 그래프를 보면 0보다 밑으로 안떨어진다\n",
        "# 점수도 좋아짐. 다만 테스트 세트의 점수가 조금 더 높아 과소적합이 아직 남아 있음.\n",
        "print(lr.score(train_poly, train_target))\n",
        "print(lr.score(test_poly, test_target))"
      ],
      "metadata": {
        "id": "7RxYb9N50UaO",
        "outputId": "55aaeb7f-b14e-4437-e4a1-d662d30e0d2d",
        "colab": {
          "base_uri": "https://localhost:8080/",
          "height": 973
        }
      },
      "execution_count": null,
      "outputs": [
        {
          "output_type": "display_data",
          "data": {
            "text/plain": [
              "<Figure size 640x480 with 1 Axes>"
            ],
            "image/png": "[encoded data removed]"
          },
          "metadata": {}
        },
        {
          "output_type": "stream",
          "name": "stdout",
          "text": [
            "(42, 2) (14, 2)\n",
            "[1573.98423528]\n",
            "[  1.01433211 -21.55792498] 116.0502107827827\n"
          ]
        },
        {
          "output_type": "display_data",
          "data": {
            "text/plain": [
              "<Figure size 640x480 with 1 Axes>"
            ],
            "image/png": "[encoded data removed]"
          },
          "metadata": {}
        },
        {
          "output_type": "stream",
          "name": "stdout",
          "text": [
            "0.9706807451768623\n",
            "0.9775935108325122\n"
          ]
        }
      ]
    },
    {
      "cell_type": "markdown",
      "source": [
        "## 다중 회귀\n",
        "여러 개의 특성을 사용한 선형 회귀를 다중 회귀라 함.\n",
        "1. 1개의 특성일 경우 직선\n",
        "2. 2개의 특성일 경우 평면\n",
        "3. 3개의 특성일 경우 3차원 공간"
      ],
      "metadata": {
        "id": "k6VeP5powyWv"
      }
    },
    {
      "cell_type": "markdown",
      "source": [
        "### 변환기\n",
        "일반적인 특성으로 선형 관계를 학습하는 모델로는 데이터의 패턴을 잘 포착 안되는 경우들이 있기에 변환기를 이용해 데이터 특성을 추가한다.\n",
        "예를 들어 x, y가 특성이 있는데 x^2, y^2 특성이라든지, x * y 같은 관계를 만들어서 비선형 관계를 포착한다.(모델의 복잡성을 증가시킴)"
      ],
      "metadata": {
        "id": "CboGs3JJCHgA"
      }
    },
    {
      "cell_type": "markdown",
      "source": [
        "# 판다스\n",
        "데이터 분석 라이브러리.\n",
        "데이터프레임이라는 데이터 구조를 사용하며 넘파이와 비슷하게 다차원 배열을 다루지만 훨씬 더 많은 기능을 제공함.\n"
      ],
      "metadata": {
        "id": "LLF12lG4zVo-"
      }
    },
    {
      "cell_type": "code",
      "source": [
        "import pandas as pd\n",
        "from sklearn.model_selection import train_test_split\n",
        "from sklearn.preprocessing import PolynomialFeatures\n",
        "from sklearn.linear_model import LinearRegression\n",
        "import numpy as np\n",
        "\n",
        "df = pd.read_csv('https://bit.ly/perch_csv_data')\n",
        "perch_full = df.to_numpy()\n",
        "print(perch_full)\n",
        "\n",
        "perch_weight = np.array(\n",
        "    [5.9, 32.0, 40.0, 51.5, 70.0, 100.0, 78.0, 80.0, 85.0, 85.0, 110.0,\n",
        "       115.0, 125.0, 130.0, 120.0, 120.0, 130.0, 135.0, 110.0, 130.0,\n",
        "       150.0, 145.0, 150.0, 170.0, 225.0, 145.0, 188.0, 180.0, 197.0,\n",
        "       218.0, 300.0, 260.0, 265.0, 250.0, 250.0, 300.0, 320.0, 514.0,\n",
        "       556.0, 840.0, 685.0, 700.0, 700.0, 690.0, 900.0, 650.0, 820.0,\n",
        "       850.0, 900.0, 1015.0, 820.0, 1100.0, 1000.0, 1100.0, 1000.0,\n",
        "       1000.0]\n",
        "                        )\n",
        "\n",
        "train_input, test_input, train_target, test_target = train_test_split(perch_full, perch_weight, random_state=42)\n",
        "\n",
        "poly = PolynomialFeatures(include_bias=False)\n",
        "poly.fit(train_input)\n",
        "train_poly = poly.transform(train_input)\n",
        "print(train_poly.shape)\n",
        "poly.get_feature_names_out()\n",
        "\n",
        "print(\"===========\")\n",
        "test_poly = poly.transform(test_input)\n",
        "\n",
        "lr = LinearRegression()\n",
        "lr.fit(train_poly, train_target)\n",
        "# 변환 후 아주 높은 점수가 나옴\n",
        "print(lr.score(train_poly, train_target))\n",
        "print(lr.score(test_poly, test_target))\n",
        "\n",
        "# 특성을 더 추가\n",
        "poly = PolynomialFeatures(degree=5, include_bias=False)\n",
        "poly.fit(train_input)\n",
        "train_poly = poly.transform(train_input)\n",
        "test_poly = poly.transform(test_input)\n",
        "print(\"=======특성 추가 후 =======\")\n",
        "print(train_poly.shape)\n",
        "lr.fit(train_poly, train_target)\n",
        "print(lr.score(train_poly, train_target))\n",
        "print(lr.score(test_poly, test_target))\n",
        "print(\"테스트 세트가 음수값이 심하게 나옴. 훈련 세트에 과대적합 되었다는 것임\")"
      ],
      "metadata": {
        "id": "QoRxZfYAzqbp",
        "outputId": "56a9e8d3-6425-4861-d18b-df432bc1b5ff",
        "colab": {
          "base_uri": "https://localhost:8080/"
        }
      },
      "execution_count": null,
      "outputs": [
        {
          "output_type": "stream",
          "name": "stdout",
          "text": [
            "[[ 8.4   2.11  1.41]\n",
            " [13.7   3.53  2.  ]\n",
            " [15.    3.82  2.43]\n",
            " [16.2   4.59  2.63]\n",
            " [17.4   4.59  2.94]\n",
            " [18.    5.22  3.32]\n",
            " [18.7   5.2   3.12]\n",
            " [19.    5.64  3.05]\n",
            " [19.6   5.14  3.04]\n",
            " [20.    5.08  2.77]\n",
            " [21.    5.69  3.56]\n",
            " [21.    5.92  3.31]\n",
            " [21.    5.69  3.67]\n",
            " [21.3   6.38  3.53]\n",
            " [22.    6.11  3.41]\n",
            " [22.    5.64  3.52]\n",
            " [22.    6.11  3.52]\n",
            " [22.    5.88  3.52]\n",
            " [22.    5.52  4.  ]\n",
            " [22.5   5.86  3.62]\n",
            " [22.5   6.79  3.62]\n",
            " [22.7   5.95  3.63]\n",
            " [23.    5.22  3.63]\n",
            " [23.5   6.28  3.72]\n",
            " [24.    7.29  3.72]\n",
            " [24.    6.38  3.82]\n",
            " [24.6   6.73  4.17]\n",
            " [25.    6.44  3.68]\n",
            " [25.6   6.56  4.24]\n",
            " [26.5   7.17  4.14]\n",
            " [27.3   8.32  5.14]\n",
            " [27.5   7.17  4.34]\n",
            " [27.5   7.05  4.34]\n",
            " [27.5   7.28  4.57]\n",
            " [28.    7.82  4.2 ]\n",
            " [28.7   7.59  4.64]\n",
            " [30.    7.62  4.77]\n",
            " [32.8  10.03  6.02]\n",
            " [34.5  10.26  6.39]\n",
            " [35.   11.49  7.8 ]\n",
            " [36.5  10.88  6.86]\n",
            " [36.   10.61  6.74]\n",
            " [37.   10.84  6.26]\n",
            " [37.   10.57  6.37]\n",
            " [39.   11.14  7.49]\n",
            " [39.   11.14  6.  ]\n",
            " [39.   12.43  7.35]\n",
            " [40.   11.93  7.11]\n",
            " [40.   11.73  7.22]\n",
            " [40.   12.38  7.46]\n",
            " [40.   11.14  6.63]\n",
            " [42.   12.8   6.87]\n",
            " [43.   11.93  7.28]\n",
            " [43.   12.51  7.42]\n",
            " [43.5  12.6   8.14]\n",
            " [44.   12.49  7.6 ]]\n",
            "(42, 9)\n",
            "===========\n",
            "0.9903183436982125\n",
            "0.9714559911594111\n",
            "=======특성 추가 후 =======\n",
            "(42, 55)\n",
            "0.9999999999996433\n",
            "-144.40579436844948\n"
          ]
        }
      ]
    },
    {
      "cell_type": "markdown",
      "source": [
        "#규제\n",
        "머신러닝 모델이 훈련 세트를 너무 과도하게 학습하지 못하도록 훼방하는 것을 말한다. 과대적합되지 않도록 만드는 것이다. 선형 회귀 모델의 경우 특성에곱해지는 계수의 크기를 작게 만드는 일이다.\n",
        "ex) 뱀처럼 구불거리는 기울기를 좀 더 완만하게 만드는 것\n"
      ],
      "metadata": {
        "id": "kD9w5neRJbk0"
      }
    },
    {
      "cell_type": "code",
      "source": [
        "# StandardScaler 클래스를 사용하여 변환\n",
        "from sklearn.preprocessing import StandardScaler\n",
        "import pandas as pd\n",
        "from sklearn.model_selection import train_test_split\n",
        "from sklearn.preprocessing import PolynomialFeatures\n",
        "from sklearn.linear_model import LinearRegression\n",
        "import numpy as np\n",
        "\n",
        "df = pd.read_csv('https://bit.ly/perch_csv_data')\n",
        "perch_full = df.to_numpy()\n",
        "print(perch_full)\n",
        "\n",
        "perch_weight = np.array(\n",
        "    [5.9, 32.0, 40.0, 51.5, 70.0, 100.0, 78.0, 80.0, 85.0, 85.0, 110.0,\n",
        "       115.0, 125.0, 130.0, 120.0, 120.0, 130.0, 135.0, 110.0, 130.0,\n",
        "       150.0, 145.0, 150.0, 170.0, 225.0, 145.0, 188.0, 180.0, 197.0,\n",
        "       218.0, 300.0, 260.0, 265.0, 250.0, 250.0, 300.0, 320.0, 514.0,\n",
        "       556.0, 840.0, 685.0, 700.0, 700.0, 690.0, 900.0, 650.0, 820.0,\n",
        "       850.0, 900.0, 1015.0, 820.0, 1100.0, 1000.0, 1100.0, 1000.0,\n",
        "       1000.0]\n",
        "                        )\n",
        "\n",
        "train_input, test_input, train_target, test_target = train_test_split(perch_full, perch_weight, random_state=42)\n",
        "\n",
        "poly = PolynomialFeatures(include_bias=False)\n",
        "poly.fit(train_input)\n",
        "train_poly = poly.transform(train_input)\n",
        "print(train_poly.shape)\n",
        "poly.get_feature_names_out()\n",
        "\n",
        "print(\"===========\")\n",
        "test_poly = poly.transform(test_input)\n",
        "\n",
        "lr = LinearRegression()\n",
        "lr.fit(train_poly, train_target)\n",
        "# 변환 후 아주 높은 점수가 나옴\n",
        "print(lr.score(train_poly, train_target))\n",
        "print(lr.score(test_poly, test_target))\n",
        "\n",
        "# 특성을 더 추가\n",
        "poly = PolynomialFeatures(degree=5, include_bias=False)\n",
        "poly.fit(train_input)\n",
        "train_poly = poly.transform(train_input)\n",
        "test_poly = poly.transform(test_input)\n",
        "\n",
        "ss = StandardScaler()\n",
        "ss.fit(train_poly)\n",
        "train_scaled = ss.transform(train_poly)\n",
        "test_scaled = ss.transform(test_poly)\n",
        "\n",
        "# 평균과 표준편차\n",
        "print(ss.mean_, ss.scale_)\n",
        "\n"
      ],
      "metadata": {
        "id": "MUJXGqrYJ2ND",
        "outputId": "918b5fc1-9464-4e73-8a64-76b86dd3d820",
        "colab": {
          "base_uri": "https://localhost:8080/"
        }
      },
      "execution_count": null,
      "outputs": [
        {
          "output_type": "stream",
          "name": "stdout",
          "text": [
            "[[ 8.4   2.11  1.41]\n",
            " [13.7   3.53  2.  ]\n",
            " [15.    3.82  2.43]\n",
            " [16.2   4.59  2.63]\n",
            " [17.4   4.59  2.94]\n",
            " [18.    5.22  3.32]\n",
            " [18.7   5.2   3.12]\n",
            " [19.    5.64  3.05]\n",
            " [19.6   5.14  3.04]\n",
            " [20.    5.08  2.77]\n",
            " [21.    5.69  3.56]\n",
            " [21.    5.92  3.31]\n",
            " [21.    5.69  3.67]\n",
            " [21.3   6.38  3.53]\n",
            " [22.    6.11  3.41]\n",
            " [22.    5.64  3.52]\n",
            " [22.    6.11  3.52]\n",
            " [22.    5.88  3.52]\n",
            " [22.    5.52  4.  ]\n",
            " [22.5   5.86  3.62]\n",
            " [22.5   6.79  3.62]\n",
            " [22.7   5.95  3.63]\n",
            " [23.    5.22  3.63]\n",
            " [23.5   6.28  3.72]\n",
            " [24.    7.29  3.72]\n",
            " [24.    6.38  3.82]\n",
            " [24.6   6.73  4.17]\n",
            " [25.    6.44  3.68]\n",
            " [25.6   6.56  4.24]\n",
            " [26.5   7.17  4.14]\n",
            " [27.3   8.32  5.14]\n",
            " [27.5   7.17  4.34]\n",
            " [27.5   7.05  4.34]\n",
            " [27.5   7.28  4.57]\n",
            " [28.    7.82  4.2 ]\n",
            " [28.7   7.59  4.64]\n",
            " [30.    7.62  4.77]\n",
            " [32.8  10.03  6.02]\n",
            " [34.5  10.26  6.39]\n",
            " [35.   11.49  7.8 ]\n",
            " [36.5  10.88  6.86]\n",
            " [36.   10.61  6.74]\n",
            " [37.   10.84  6.26]\n",
            " [37.   10.57  6.37]\n",
            " [39.   11.14  7.49]\n",
            " [39.   11.14  6.  ]\n",
            " [39.   12.43  7.35]\n",
            " [40.   11.93  7.11]\n",
            " [40.   11.73  7.22]\n",
            " [40.   12.38  7.46]\n",
            " [40.   11.14  6.63]\n",
            " [42.   12.8   6.87]\n",
            " [43.   11.93  7.28]\n",
            " [43.   12.51  7.42]\n",
            " [43.5  12.6   8.14]\n",
            " [44.   12.49  7.6 ]]\n",
            "(42, 9)\n",
            "===========\n",
            "0.9903183436982125\n",
            "0.9714559911594111\n",
            "[2.84452381e+01 8.04238095e+00 4.82047619e+00 8.85315000e+02\n",
            " 2.53486881e+02 1.51959000e+02 7.29365000e+01 4.36999452e+01\n",
            " 2.62868381e+01 2.97326070e+04 8.59817581e+03 5.15200651e+03\n",
            " 2.49680043e+03 1.49567194e+03 8.99184494e+02 7.27945149e+02\n",
            " 4.36019840e+02 2.62115117e+02 1.58141990e+02 1.05917983e+06\n",
            " 3.08429517e+05 1.84644673e+05 9.01239554e+04 5.39478286e+04\n",
            " 3.23998082e+04 2.64224658e+04 1.58167367e+04 9.49991053e+03\n",
            " 5.72489005e+03 7.77162422e+03 4.65285399e+03 2.79521756e+03\n",
            " 1.68494739e+03 1.01911272e+03 3.93876111e+07 1.15192532e+07\n",
            " 6.88842737e+06 3.37865413e+06 2.02034307e+06 1.21184517e+06\n",
            " 9.93774754e+05 5.94291271e+05 3.56516573e+05 2.14541208e+05\n",
            " 2.93110780e+05 1.75313851e+05 1.05196649e+05 6.33244641e+04\n",
            " 3.82394901e+04 8.66870097e+04 5.18625239e+04 3.11308026e+04\n",
            " 1.87477065e+04 1.13270112e+04 6.86569419e+03] [8.72831196e+00 2.87343151e+00 1.74638123e+00 5.24782988e+02\n",
            " 1.60836428e+02 9.64793789e+01 4.95165749e+01 2.97578956e+01\n",
            " 1.81139412e+01 2.50155373e+04 7.49275582e+03 4.47153009e+03\n",
            " 2.25433695e+03 1.34683566e+03 8.11988865e+02 6.81265335e+02\n",
            " 4.07639942e+02 2.46263218e+02 1.50164227e+02 1.10854579e+06\n",
            " 3.28247889e+05 1.95342267e+05 9.76153931e+04 5.81064317e+04\n",
            " 3.48472685e+04 2.91591483e+04 1.73674986e+04 1.04273041e+04\n",
            " 6.30922253e+03 8.75059964e+03 5.21694989e+03 3.13701782e+03\n",
            " 1.90225250e+03 1.16311955e+03 4.77814865e+07 1.40483165e+07\n",
            " 8.34702250e+06 4.14736151e+06 2.46313653e+06 1.47240427e+06\n",
            " 1.22970655e+06 7.30196641e+05 4.36628701e+05 2.62841007e+05\n",
            " 3.66270535e+05 2.17518714e+05 1.30152823e+05 7.84482709e+04\n",
            " 4.76246733e+04 1.09609367e+05 6.51258832e+04 3.90090183e+04\n",
            " 2.35520992e+04 1.43325296e+04 8.79122582e+03]\n"
          ]
        }
      ]
    },
    {
      "cell_type": "markdown",
      "source": [
        "## 릿지 회귀(L2)\n",
        "목적은 모델의 복잡도를 줄이기 위해 회귀 계수(가중치) 값이 너무 크지 않도록 제어하는 것. 이를 위해 손실 함수에 L2 패널티 항을 추가함. 계수를 제곱한 값을 기준으로 적용\n",
        "\n",
        "* alpha 값은 릿지 모델이 학습하는 값이 아니라 사전에 우리가 지정해야 하는 값이다. 하이퍼파라미터라고도 한다.\n",
        "alpha값이 크면 규제 강도가 세지고 과소적합으로 유도, 작으면 규제 강도가 약해지고 과대적합으로 유도 (과적합 하겠다는게 아니라 역으로 가서 균형을 이루겠다는 말임)"
      ],
      "metadata": {
        "id": "cVqJfWA3NRuq"
      }
    },
    {
      "cell_type": "code",
      "source": [
        "from sklearn.linear_model import Ridge\n",
        "from sklearn.preprocessing import StandardScaler\n",
        "import pandas as pd\n",
        "from sklearn.model_selection import train_test_split\n",
        "from sklearn.preprocessing import PolynomialFeatures\n",
        "from sklearn.linear_model import LinearRegression\n",
        "import numpy as np\n",
        "\n",
        "df = pd.read_csv('https://bit.ly/perch_csv_data')\n",
        "perch_full = df.to_numpy()\n",
        "\n",
        "perch_weight = np.array(\n",
        "    [5.9, 32.0, 40.0, 51.5, 70.0, 100.0, 78.0, 80.0, 85.0, 85.0, 110.0,\n",
        "       115.0, 125.0, 130.0, 120.0, 120.0, 130.0, 135.0, 110.0, 130.0,\n",
        "       150.0, 145.0, 150.0, 170.0, 225.0, 145.0, 188.0, 180.0, 197.0,\n",
        "       218.0, 300.0, 260.0, 265.0, 250.0, 250.0, 300.0, 320.0, 514.0,\n",
        "       556.0, 840.0, 685.0, 700.0, 700.0, 690.0, 900.0, 650.0, 820.0,\n",
        "       850.0, 900.0, 1015.0, 820.0, 1100.0, 1000.0, 1100.0, 1000.0,\n",
        "       1000.0]\n",
        "                        )\n",
        "\n",
        "train_input, test_input, train_target, test_target = train_test_split(perch_full, perch_weight, random_state=42)\n",
        "\n",
        "poly = PolynomialFeatures(include_bias=False)\n",
        "poly.fit(train_input)\n",
        "train_poly = poly.transform(train_input)\n",
        "poly.get_feature_names_out()\n",
        "\n",
        "test_poly = poly.transform(test_input)\n",
        "\n",
        "lr = LinearRegression()\n",
        "lr.fit(train_poly, train_target)\n",
        "\n",
        "# 특성을 더 추가\n",
        "poly = PolynomialFeatures(degree=5, include_bias=False)\n",
        "poly.fit(train_input)\n",
        "train_poly = poly.transform(train_input)\n",
        "test_poly = poly.transform(test_input)\n",
        "\n",
        "ss = StandardScaler()\n",
        "ss.fit(train_poly)\n",
        "train_scaled = ss.transform(train_poly)\n",
        "test_scaled = ss.transform(test_poly)\n",
        "\n",
        "# 릿지 회귀\n",
        "ridge = Ridge()\n",
        "ridge.fit(train_scaled, train_target)\n",
        "print(ridge.score(train_scaled, train_target))\n",
        "print(ridge.score(test_scaled, test_target))\n",
        "\n"
      ],
      "metadata": {
        "id": "agAyMiwiOLvW",
        "outputId": "c13e4f25-46a7-489e-d246-100ff8290d05",
        "colab": {
          "base_uri": "https://localhost:8080/"
        }
      },
      "execution_count": null,
      "outputs": [
        {
          "output_type": "stream",
          "name": "stdout",
          "text": [
            "0.9896101671037343\n",
            "0.9790693977615387\n"
          ]
        }
      ]
    },
    {
      "cell_type": "code",
      "source": [
        "import matplotlib.pyplot as plt\n",
        "from sklearn.linear_model import Ridge\n",
        "from sklearn.preprocessing import StandardScaler\n",
        "import pandas as pd\n",
        "from sklearn.model_selection import train_test_split\n",
        "from sklearn.preprocessing import PolynomialFeatures\n",
        "from sklearn.linear_model import LinearRegression\n",
        "import numpy as np\n",
        "\n",
        "df = pd.read_csv('https://bit.ly/perch_csv_data')\n",
        "perch_full = df.to_numpy()\n",
        "\n",
        "perch_weight = np.array(\n",
        "    [5.9, 32.0, 40.0, 51.5, 70.0, 100.0, 78.0, 80.0, 85.0, 85.0, 110.0,\n",
        "       115.0, 125.0, 130.0, 120.0, 120.0, 130.0, 135.0, 110.0, 130.0,\n",
        "       150.0, 145.0, 150.0, 170.0, 225.0, 145.0, 188.0, 180.0, 197.0,\n",
        "       218.0, 300.0, 260.0, 265.0, 250.0, 250.0, 300.0, 320.0, 514.0,\n",
        "       556.0, 840.0, 685.0, 700.0, 700.0, 690.0, 900.0, 650.0, 820.0,\n",
        "       850.0, 900.0, 1015.0, 820.0, 1100.0, 1000.0, 1100.0, 1000.0,\n",
        "       1000.0]\n",
        "                        )\n",
        "\n",
        "train_input, test_input, train_target, test_target = train_test_split(perch_full, perch_weight, random_state=42)\n",
        "\n",
        "poly = PolynomialFeatures(include_bias=False)\n",
        "poly.fit(train_input)\n",
        "train_poly = poly.transform(train_input)\n",
        "poly.get_feature_names_out()\n",
        "\n",
        "test_poly = poly.transform(test_input)\n",
        "\n",
        "lr = LinearRegression()\n",
        "lr.fit(train_poly, train_target)\n",
        "\n",
        "# 특성을 더 추가\n",
        "poly = PolynomialFeatures(degree=5, include_bias=False)\n",
        "poly.fit(train_input)\n",
        "train_poly = poly.transform(train_input)\n",
        "test_poly = poly.transform(test_input)\n",
        "\n",
        "ss = StandardScaler()\n",
        "ss.fit(train_poly)\n",
        "train_scaled = ss.transform(train_poly)\n",
        "test_scaled = ss.transform(test_poly)\n",
        "\n",
        "train_score = []\n",
        "test_score = []\n",
        "\n",
        "alpha_list = [0.001, 0.01, 0.1, 1, 10, 100]\n",
        "for alpha in alpha_list:\n",
        "  # 릿지 모델 생성\n",
        "  ridge = Ridge(alpha=alpha)\n",
        "  #릿지 모델을 훈련합니다\n",
        "  ridge.fit(train_scaled, train_target)\n",
        "  # 훈련 점수와 테스트 점수를 저장합니다.\n",
        "  train_score.append(ridge.score(train_scaled, train_target))\n",
        "  test_score.append(ridge.score(test_scaled, test_target))\n",
        "\n",
        "plt.plot(np.log10(alpha_list), train_score)\n",
        "plt.plot(np.log10(alpha_list), test_score)\n",
        "plt.xlabel('alpha')\n",
        "plt.ylabel('R^2')\n",
        "plt.show()\n",
        "# 왼쪽은 과대적합, 오른쪽은 과소적합(모두 낮아짐)\n",
        "# 가장 최적 지점은 -1 -> 10^-1=0.1\n",
        "\n",
        "ridge = Ridge(alpha=0.1)\n",
        "ridge.fit(train_scaled, train_target)\n",
        "print(ridge.score(train_scaled, train_target))\n",
        "print(ridge.score(test_scaled, test_target))"
      ],
      "metadata": {
        "id": "B2hmBXZYRYNw",
        "outputId": "ac9d3bef-9fe0-46cd-996c-084b5c9ac4eb",
        "colab": {
          "base_uri": "https://localhost:8080/",
          "height": 486
        }
      },
      "execution_count": null,
      "outputs": [
        {
          "output_type": "display_data",
          "data": {
            "text/plain": [
              "<Figure size 640x480 with 1 Axes>"
            ],
            "image/png": "[encoded data removed]"
          },
          "metadata": {}
        },
        {
          "output_type": "stream",
          "name": "stdout",
          "text": [
            "0.9903815817570367\n",
            "0.9827976465386928\n"
          ]
        }
      ]
    },
    {
      "cell_type": "markdown",
      "source": [
        "## 라쏘 회귀(L1)\n",
        "릿지와 훈련 방법은 비슷하다.\n",
        "그래프를 보면  왼쪽은 과대적합 중간은 적당한 적합 오른쪽은 과소적합이다.\n",
        "_coef로 계수가 0인 것을 찾아보면 55개중 40개가 0이다. 즉 라쏘 모델이 사용한 특성은 15개이고 이런 특징 때문에 유용한 특성을 골라내는 용도로 사용할 수 있다."
      ],
      "metadata": {
        "id": "1II_Yvfv6sTv"
      }
    },
    {
      "cell_type": "code",
      "source": [
        "import matplotlib.pyplot as plt\n",
        "from sklearn.linear_model import Lasso\n",
        "from sklearn.preprocessing import StandardScaler\n",
        "import pandas as pd\n",
        "from sklearn.model_selection import train_test_split\n",
        "from sklearn.preprocessing import PolynomialFeatures\n",
        "from sklearn.linear_model import LinearRegression\n",
        "import numpy as np\n",
        "\n",
        "df = pd.read_csv('https://bit.ly/perch_csv_data')\n",
        "perch_full = df.to_numpy()\n",
        "\n",
        "perch_weight = np.array(\n",
        "    [5.9, 32.0, 40.0, 51.5, 70.0, 100.0, 78.0, 80.0, 85.0, 85.0, 110.0,\n",
        "       115.0, 125.0, 130.0, 120.0, 120.0, 130.0, 135.0, 110.0, 130.0,\n",
        "       150.0, 145.0, 150.0, 170.0, 225.0, 145.0, 188.0, 180.0, 197.0,\n",
        "       218.0, 300.0, 260.0, 265.0, 250.0, 250.0, 300.0, 320.0, 514.0,\n",
        "       556.0, 840.0, 685.0, 700.0, 700.0, 690.0, 900.0, 650.0, 820.0,\n",
        "       850.0, 900.0, 1015.0, 820.0, 1100.0, 1000.0, 1100.0, 1000.0,\n",
        "       1000.0]\n",
        "                        )\n",
        "\n",
        "train_input, test_input, train_target, test_target = train_test_split(perch_full, perch_weight, random_state=42)\n",
        "\n",
        "poly = PolynomialFeatures(include_bias=False)\n",
        "poly.fit(train_input)\n",
        "train_poly = poly.transform(train_input)\n",
        "poly.get_feature_names_out()\n",
        "\n",
        "test_poly = poly.transform(test_input)\n",
        "\n",
        "lr = LinearRegression()\n",
        "lr.fit(train_poly, train_target)\n",
        "\n",
        "# 특성을 더 추가\n",
        "poly = PolynomialFeatures(degree=5, include_bias=False)\n",
        "poly.fit(train_input)\n",
        "train_poly = poly.transform(train_input)\n",
        "test_poly = poly.transform(test_input)\n",
        "\n",
        "ss = StandardScaler()\n",
        "ss.fit(train_poly)\n",
        "train_scaled = ss.transform(train_poly)\n",
        "test_scaled = ss.transform(test_poly)\n",
        "\n",
        "train_score = []\n",
        "test_score = []\n",
        "\n",
        "alpha_list = [0.001, 0.01, 0.1, 1, 10, 100]\n",
        "for alpha in alpha_list:\n",
        "  # 라쏘 모델 생성\n",
        "  lasso = Lasso(alpha=alpha, max_iter=10000)\n",
        "  # 라쏘 모델을 훈련합니다\n",
        "  lasso.fit(train_scaled, train_target)\n",
        "  # 훈련 점수와 테스트 점수를 저장합니다.\n",
        "  train_score.append(lasso.score(train_scaled, train_target))\n",
        "  test_score.append(lasso.score(test_scaled, test_target))\n",
        "\n",
        "\n",
        "plt.plot(np.log10(alpha_list), train_score)\n",
        "plt.plot(np.log10(alpha_list), test_score)\n",
        "plt.xlabel('alpha')\n",
        "plt.ylabel('R^2')\n",
        "plt.show()\n",
        "\n",
        "lasso = Lasso(alpha=10)\n",
        "lasso.fit(train_scaled, train_target)\n",
        "print(lasso.score(train_scaled, train_target))\n",
        "print(lasso.score(test_scaled, test_target))\n",
        "\n",
        "print(np.sum(lasso.coef_ == 0))"
      ],
      "metadata": {
        "id": "inOoHVMj7I0_",
        "outputId": "ddb6d5da-bc7e-487e-c27b-9e8fcb0b96ad",
        "colab": {
          "base_uri": "https://localhost:8080/",
          "height": 598
        }
      },
      "execution_count": null,
      "outputs": [
        {
          "output_type": "stream",
          "name": "stderr",
          "text": [
            "/usr/local/lib/python3.10/dist-packages/sklearn/linear_model/_coordinate_descent.py:631: ConvergenceWarning: Objective did not converge. You might want to increase the number of iterations, check the scale of the features or consider increasing regularisation. Duality gap: 1.878e+04, tolerance: 5.183e+02\n",
            "  model = cd_fast.enet_coordinate_descent(\n",
            "/usr/local/lib/python3.10/dist-packages/sklearn/linear_model/_coordinate_descent.py:631: ConvergenceWarning: Objective did not converge. You might want to increase the number of iterations, check the scale of the features or consider increasing regularisation. Duality gap: 1.297e+04, tolerance: 5.183e+02\n",
            "  model = cd_fast.enet_coordinate_descent(\n"
          ]
        },
        {
          "output_type": "display_data",
          "data": {
            "text/plain": [
              "<Figure size 640x480 with 1 Axes>"
            ],
            "image/png": "[encoded data removed]"
          },
          "metadata": {}
        },
        {
          "output_type": "stream",
          "name": "stdout",
          "text": [
            "0.9888067471131867\n",
            "0.9824470598706695\n",
            "40\n"
          ]
        }
      ]
    },
    {
      "cell_type": "markdown",
      "source": [
        "# 다중 분류\n",
        "타깃 데이터에 2개 이상의 클래스가 포함된 문제를 다중 분류라고 한다.\n",
        "이진 분류와 훈련 방식은 동일하다."
      ],
      "metadata": {
        "id": "2264gorIdh8A"
      }
    },
    {
      "cell_type": "code",
      "source": [
        "import pandas as pd\n",
        "from sklearn.model_selection import train_test_split\n",
        "from sklearn.preprocessing import StandardScaler\n",
        "from sklearn.neighbors import KNeighborsClassifier\n",
        "import numpy as np\n",
        "\n",
        "fish = pd.read_csv('https://bit.ly/fish_csv_data')\n",
        "fish.head()\n",
        "print(pd.unique(fish['Species']))\n",
        "\n",
        "fish_input = fish[['Weight', 'Length', 'Diagonal', 'Height', 'Width']].to_numpy()\n",
        "print(fish_input[:5])\n",
        "\n",
        "fish_target = fish['Species'].to_numpy()\n",
        "train_input, test_input, train_target, test_target = train_test_split(fish_input, fish_target, random_state=42)\n",
        "\n",
        "ss = StandardScaler()\n",
        "ss.fit(train_input)\n",
        "train_scaled = ss.transform(train_input)\n",
        "test_scaled = ss.transform(test_input)\n",
        "\n",
        "kn = KNeighborsClassifier(n_neighbors=3)\n",
        "kn.fit(train_scaled, train_target)\n",
        "print(kn.score(train_scaled, train_target))\n",
        "print(kn.score(test_scaled, test_target))\n",
        "\n",
        "# 타깃값을 그대로 사이킷런 모델에 전달하면 순서가 자동으로 알파벳 순으로 매겨짐\n",
        "print(kn.classes_)\n",
        "\n",
        "# 테스트세트에 있는 처음 5개 샘플의 타깃값 예측\n",
        "print(kn.predict(test_scaled[:5]))\n",
        "\n",
        "# 클래스별 확률값\n",
        "proba=kn.predict_proba(test_scaled[:5])\n",
        "# 소수 네 번째까지 표기\n",
        "print(np.round(proba, decimals=4))\n",
        "\n",
        "distances, indexes = kn.kneighbors(test_scaled[3:4])\n",
        "print(train_target[indexes])\n",
        "\n",
        "# 4번째 샘플은 3번 Perch의 확률이 2/3, 5번 Roach의 확률이 1/3\n"
      ],
      "metadata": {
        "id": "GjbbVS1tWBhU",
        "outputId": "50cdfce0-a104-4ee1-9008-40d9c74e9864",
        "colab": {
          "base_uri": "https://localhost:8080/"
        }
      },
      "execution_count": null,
      "outputs": [
        {
          "output_type": "stream",
          "name": "stdout",
          "text": [
            "['Bream' 'Roach' 'Whitefish' 'Parkki' 'Perch' 'Pike' 'Smelt']\n",
            "[[242.      25.4     30.      11.52     4.02  ]\n",
            " [290.      26.3     31.2     12.48     4.3056]\n",
            " [340.      26.5     31.1     12.3778   4.6961]\n",
            " [363.      29.      33.5     12.73     4.4555]\n",
            " [430.      29.      34.      12.444    5.134 ]]\n",
            "0.8907563025210085\n",
            "0.85\n",
            "['Bream' 'Parkki' 'Perch' 'Pike' 'Roach' 'Smelt' 'Whitefish']\n",
            "['Perch' 'Smelt' 'Pike' 'Perch' 'Perch']\n",
            "[[0.     0.     1.     0.     0.     0.     0.    ]\n",
            " [0.     0.     0.     0.     0.     1.     0.    ]\n",
            " [0.     0.     0.     1.     0.     0.     0.    ]\n",
            " [0.     0.     0.6667 0.     0.3333 0.     0.    ]\n",
            " [0.     0.     0.6667 0.     0.3333 0.     0.    ]]\n",
            "[['Roach' 'Perch' 'Perch']]\n"
          ]
        }
      ]
    },
    {
      "cell_type": "markdown",
      "source": [
        "# 로지스틱 회귀\n",
        "이름은 회귀이지만 분류 모델이다. 이 알고리즘은 선형 회귀와 동일하게 선형 방정식을 학습한다. 그리고 값을 0~1 사이로 압축한다.\n",
        "선형 방정식이 아래와 같은 때\n",
        "\n",
        "\n",
        "> z = a x (Weight) + b x (Length) + c x (Diagnoal) + d x (Height) + e x (Width) + f\n",
        "\n",
        "\n",
        "\n",
        "확률은 0~1 사이인데 Z는 아주 큰 음수일 때 0, 큰 양수일 때 1이 되도록 바꾸는 방법으로 시그모이드 함수(or 로지스틱 함수)를 사용하면 된다."
      ],
      "metadata": {
        "id": "TqYkMncNJWQf"
      }
    },
    {
      "cell_type": "code",
      "source": [
        "import numpy as np\n",
        "import matplotlib.pyplot as plt\n",
        "\n",
        "z = np.arange(-5, 5, 0.1)\n",
        "# z의 음수를 사용해 자연 상수 e를 거듭제곱하고 1을 더한 값의 역수를 취함!\n",
        "# 지수함수의 계산으로 np.exp 를 사용\n",
        "phi = 1 / (1 + np.exp(-z))\n",
        "plt.plot(z, phi)\n",
        "plt.xlabel('z')\n",
        "plt.ylabel('phi')\n",
        "plt.show()"
      ],
      "metadata": {
        "colab": {
          "base_uri": "https://localhost:8080/",
          "height": 449
        },
        "id": "SzWcFFXZLwtD",
        "outputId": "f842c72f-141a-4d84-c43c-d801a25c8840"
      },
      "execution_count": 6,
      "outputs": [
        {
          "output_type": "display_data",
          "data": {
            "text/plain": [
              "<Figure size 640x480 with 1 Axes>"
            ],
            "image/png": "[encoded data removed]"
          },
          "metadata": {}
        }
      ]
    },
    {
      "cell_type": "markdown",
      "source": [
        "## 이진 분류 수행\n",
        "시그모이드 함수에서 이진 분류는 0.5보다 작을 경우 음성 클래스 0.5보다 클 경우는 양성 클래스. 0.5는 사이킷런에서는 음성 클래스로 판단함."
      ],
      "metadata": {
        "id": "NseQW-LnR3tT"
      }
    },
    {
      "cell_type": "code",
      "source": [
        "import pandas as pd\n",
        "from sklearn.model_selection import train_test_split\n",
        "from sklearn.preprocessing import StandardScaler\n",
        "from sklearn.linear_model import LogisticRegression\n",
        "import numpy as np\n",
        "\n",
        "fish = pd.read_csv('https://bit.ly/fish_csv_data')\n",
        "fish.head()\n",
        "print(pd.unique(fish['Species']))\n",
        "\n",
        "fish_input = fish[['Weight', 'Length', 'Diagonal', 'Height', 'Width']].to_numpy()\n",
        "print(fish_input[:5])\n",
        "\n",
        "fish_target = fish['Species'].to_numpy()\n",
        "train_input, test_input, train_target, test_target = train_test_split(fish_input, fish_target, random_state=42)\n",
        "\n",
        "ss = StandardScaler()\n",
        "ss.fit(train_input)\n",
        "train_scaled = ss.transform(train_input)\n",
        "test_scaled = ss.transform(test_input)\n",
        "\n",
        "bream_smelt_indexes = (train_target == 'Bream') | (train_target == 'Smelt')\n",
        "train_bream_smelt = train_scaled[bream_smelt_indexes]\n",
        "target_bream_smelt = train_target[bream_smelt_indexes]\n",
        "\n",
        "# 로지스틱 회귀 훈련\n",
        "lr = LogisticRegression()\n",
        "lr.fit(train_bream_smelt, target_bream_smelt)\n",
        "# 샘플 5개 예측\n",
        "print(lr.predict(train_bream_smelt[:5]))\n",
        "# 예측 확률\n",
        "print(lr.predict_proba(train_bream_smelt[:5]))\n",
        "# 이진 분류에서 어떤게 음성인가 양성인가. 사이킷런은 알파벳순으로 정렬\n",
        "print(\"이진분류 : \", lr.classes_)\n",
        "# 학습한 방정식의 계수는 아래와 같다\n",
        "# z = a x (Weight) + b x (Length) + c x (Diagnoal) + d x (Height) + e x (Width) + f\n",
        "# Z = -0.404 x (Weight) - 0.576 x (Length) - 0.663 x (Diagnoal) - 1.013 x (Height) - 0.732 x (Width) - 2.161\n",
        "print(\"계수 : \", lr.coef_, lr.intercept_)\n",
        "\n",
        "# LogisticRegression 모델로 z값 계산\n",
        "decisions = lr.decision_function(train_bream_smelt[:5])\n",
        "print(\"decisions : \", decisions)\n",
        "\n",
        "# 위 z 값을 시그모이드 함수를 통과시키면 확률 얻을 수 있음. 아래 사이파이 라이브러리를 사용\n",
        "from scipy.special import expit\n",
        "print(\"확률 : \" , expit(decisions))"
      ],
      "metadata": {
        "colab": {
          "base_uri": "https://localhost:8080/"
        },
        "id": "iVKzjhlqSF4P",
        "outputId": "d98d84dd-775f-4848-98d6-aca5352b2991"
      },
      "execution_count": 17,
      "outputs": [
        {
          "output_type": "stream",
          "name": "stdout",
          "text": [
            "['Bream' 'Roach' 'Whitefish' 'Parkki' 'Perch' 'Pike' 'Smelt']\n",
            "[[242.      25.4     30.      11.52     4.02  ]\n",
            " [290.      26.3     31.2     12.48     4.3056]\n",
            " [340.      26.5     31.1     12.3778   4.6961]\n",
            " [363.      29.      33.5     12.73     4.4555]\n",
            " [430.      29.      34.      12.444    5.134 ]]\n",
            "['Bream' 'Smelt' 'Bream' 'Bream' 'Bream']\n",
            "[[0.99759855 0.00240145]\n",
            " [0.02735183 0.97264817]\n",
            " [0.99486072 0.00513928]\n",
            " [0.98584202 0.01415798]\n",
            " [0.99767269 0.00232731]]\n",
            "이진분류 :  ['Bream' 'Smelt']\n",
            "계수 :  [[-0.4037798  -0.57620209 -0.66280298 -1.01290277 -0.73168947]] [-2.16155132]\n",
            "decisions :  [-6.02927744  3.57123907 -5.26568906 -4.24321775 -6.0607117 ]\n",
            "확률 :  [0.00240145 0.97264817 0.00513928 0.01415798 0.00232731]\n"
          ]
        }
      ]
    },
    {
      "cell_type": "markdown",
      "source": [
        "## 다중 분류 수행\n",
        "LogisticRegression은 기본적으로 릿지 회귀와 같이 계수의 제곱을 규제한다. 이런 규제를 L2 규제라고도 부른다. 릿지 회귀에서는 alpha 매개변수로 규제의 양을 조절했다. alpha가 커지면 규제도 커진다. LogisticRegression에서 규제를 제어하는 매개변수는 C이다. 하지만 C는 alpha와 반대로 작을수록 규제가 커진다. C의 기본값은 1이다. 규제를 조금 완화하기 위해선 값을 늘리면 된다.\n",
        "\n",
        "* 다중 분류는 클래스마다 z 값을 하나씩 계산한다. 그 중 z값을 출력하는 클래스가 예측 클래스가 된다.\n",
        "* 이진 분류는 시그모이드 함수를 사용해 확률을 변환했는데 다중 분류는 이와 달리 소프트맥스 함수를 사용하여 변환한다."
      ],
      "metadata": {
        "id": "aaGC55qsf6DK"
      }
    },
    {
      "cell_type": "code",
      "source": [
        "import pandas as pd\n",
        "from sklearn.model_selection import train_test_split\n",
        "from sklearn.preprocessing import StandardScaler\n",
        "from sklearn.linear_model import LogisticRegression\n",
        "import numpy as np\n",
        "\n",
        "fish = pd.read_csv('https://bit.ly/fish_csv_data')\n",
        "fish.head()\n",
        "print(pd.unique(fish['Species']))\n",
        "\n",
        "fish_input = fish[['Weight', 'Length', 'Diagonal', 'Height', 'Width']].to_numpy()\n",
        "\n",
        "fish_target = fish['Species'].to_numpy()\n",
        "train_input, test_input, train_target, test_target = train_test_split(fish_input, fish_target, random_state=42)\n",
        "\n",
        "ss = StandardScaler()\n",
        "ss.fit(train_input)\n",
        "train_scaled = ss.transform(train_input)\n",
        "test_scaled = ss.transform(test_input)\n",
        "\n",
        "# 로지스틱 회귀 훈련\n",
        "lr = LogisticRegression(C=20, max_iter=1000)\n",
        "lr.fit(train_scaled, train_target)\n",
        "print(\"훈련 세트 : \", lr.score(train_scaled, train_target))\n",
        "print(\"테스트 세트\", lr.score(test_scaled, test_target))\n",
        "\n",
        "print(\"5개 샘플 : \", test_scaled[:5])\n",
        "print(\"5개 샘플 예측 : \", lr.predict(test_scaled[:5]))\n",
        "\n",
        "# 예측확률 소수점 반올림\n",
        "proba = lr.predict_proba(test_scaled[:5])\n",
        "print(np.round(proba, decimals=3))\n",
        "# 클래스 정보 확인\n",
        "print(\"클래스 정보 : \" , lr.classes_)\n",
        "\n",
        "decision = lr.decision_function(test_scaled[:5])\n",
        "\n",
        "from scipy.special import softmax\n",
        "\n",
        "# softmax의 axis 매개변수는 소프트맥스를 계산할 축을 지정한다.\n",
        "# 1로 지정하면 각 행,에 대한 소프트맥스를 계산한다. 지정하지 않으면 배열 전체에 대한 계산을 한다.\n",
        "proba = softmax(decision, axis=1)\n",
        "print(\"======== 확률 ==========\")\n",
        "print(np.round(proba, decimals=3))\n",
        "print(\"========================\")"
      ],
      "metadata": {
        "id": "E_VOe_jZl-4n",
        "outputId": "97a94aae-2a68-4837-c65f-5296a56351dd",
        "colab": {
          "base_uri": "https://localhost:8080/"
        }
      },
      "execution_count": 27,
      "outputs": [
        {
          "output_type": "stream",
          "name": "stdout",
          "text": [
            "['Bream' 'Roach' 'Whitefish' 'Parkki' 'Perch' 'Pike' 'Smelt']\n",
            "훈련 세트 :  0.9327731092436975\n",
            "테스트 세트 0.925\n",
            "5개 샘플 :  [[-0.88741352 -0.91804565 -1.03098914 -0.90464451 -0.80762518]\n",
            " [-1.06924656 -1.50842035 -1.54345461 -1.58849582 -1.93803151]\n",
            " [-0.54401367  0.35641402  0.30663259 -0.8135697  -0.65388895]\n",
            " [-0.34698097 -0.23396068 -0.22320459 -0.11905019 -0.12233464]\n",
            " [-0.68475132 -0.51509149 -0.58801052 -0.8998784  -0.50124996]]\n",
            "5개 샘플 예측 :  ['Perch' 'Smelt' 'Pike' 'Roach' 'Perch']\n",
            "[[0.    0.014 0.841 0.    0.136 0.007 0.003]\n",
            " [0.    0.003 0.044 0.    0.007 0.946 0.   ]\n",
            " [0.    0.    0.034 0.935 0.015 0.016 0.   ]\n",
            " [0.011 0.034 0.306 0.007 0.567 0.    0.076]\n",
            " [0.    0.    0.904 0.002 0.089 0.002 0.001]]\n",
            "클래스 정보 :  ['Bream' 'Parkki' 'Perch' 'Pike' 'Roach' 'Smelt' 'Whitefish']\n",
            "======== 확률 ==========\n",
            "[[0.    0.014 0.841 0.    0.136 0.007 0.003]\n",
            " [0.    0.003 0.044 0.    0.007 0.946 0.   ]\n",
            " [0.    0.    0.034 0.935 0.015 0.016 0.   ]\n",
            " [0.011 0.034 0.306 0.007 0.567 0.    0.076]\n",
            " [0.    0.    0.904 0.002 0.089 0.002 0.001]]\n",
            "========================\n"
          ]
        }
      ]
    }
  ]
}